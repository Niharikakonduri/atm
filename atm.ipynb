{
 "cells": [
  {
   "cell_type": "code",
   "execution_count": 2,
   "id": "f71a248c-f68f-482c-a06a-ff3dea066b09",
   "metadata": {},
   "outputs": [
    {
     "name": "stdout",
     "output_type": "stream",
     "text": [
      "Enter your name: niharika\n",
      "Enter your password python124\n"
     ]
    },
    {
     "name": "stdout",
     "output_type": "stream",
     "text": [
      "\n",
      "    1.deposit\n",
      "    2.withdraw\n",
      "    3.ministatement\n",
      "    4.exit\n",
      "    \n"
     ]
    },
    {
     "ename": "NameError",
     "evalue": "name 'amount' is not defined",
     "output_type": "error",
     "traceback": [
      "\u001b[1;31m---------------------------------------------------------------------------\u001b[0m",
      "\u001b[1;31mNameError\u001b[0m                                 Traceback (most recent call last)",
      "Cell \u001b[1;32mIn[2], line 14\u001b[0m\n\u001b[0;32m      7\u001b[0m \u001b[38;5;28;01mif\u001b[39;00m c_name\u001b[38;5;241m==\u001b[39musername \u001b[38;5;129;01mand\u001b[39;00m c_pass\u001b[38;5;241m==\u001b[39mpassword:\n\u001b[0;32m      8\u001b[0m     \u001b[38;5;28mprint\u001b[39m(\u001b[38;5;124m'''\u001b[39m\n\u001b[0;32m      9\u001b[0m \u001b[38;5;124m    1.deposit\u001b[39m\n\u001b[0;32m     10\u001b[0m \u001b[38;5;124m    2.withdraw\u001b[39m\n\u001b[0;32m     11\u001b[0m \u001b[38;5;124m    3.ministatement\u001b[39m\n\u001b[0;32m     12\u001b[0m \u001b[38;5;124m    4.exit\u001b[39m\n\u001b[0;32m     13\u001b[0m \u001b[38;5;124m    \u001b[39m\u001b[38;5;124m'''\u001b[39m)\n\u001b[1;32m---> 14\u001b[0m     \u001b[43mamount\u001b[49m\u001b[38;5;241m==\u001b[39m\u001b[38;5;241m50000\u001b[39m\n\u001b[0;32m     15\u001b[0m     option\u001b[38;5;241m=\u001b[39m\u001b[38;5;28mint\u001b[39m(\u001b[38;5;28minput\u001b[39m(\u001b[38;5;124m\"\u001b[39m\u001b[38;5;124mselect your option:\u001b[39m\u001b[38;5;124m\"\u001b[39m))\n\u001b[0;32m     16\u001b[0m     \u001b[38;5;28;01mif\u001b[39;00m option\u001b[38;5;241m==\u001b[39m\u001b[38;5;241m1\u001b[39m:\n",
      "\u001b[1;31mNameError\u001b[0m: name 'amount' is not defined"
     ]
    }
   ],
   "source": [
    "username='niharika'\n",
    "password='python124'\n",
    "\n",
    "c_name=input(\"Enter your name:\")\n",
    "c_pass=str(input(\"Enter your password\"))\n",
    "\n",
    "if c_name==username and c_pass==password:\n",
    "    print('''\n",
    "    1.deposit\n",
    "    2.withdraw\n",
    "    3.ministatement\n",
    "    4.exit\n",
    "    ''')\n",
    "    amount ==50000\n",
    "    option=int(input(\"select your option:\"))\n",
    "    if option==1:\n",
    "        dep=int(input(\"Enter the amount\"))\n",
    "        amount+=dep\n",
    "        print(\"Total amount:\",amount)\n",
    "    elif option==2:\n",
    "        withid=int(input(\"Enter the amount:\"))\n",
    "        amount-=withid\n",
    "        print(\"total amount:\",amount)\n",
    "    elif option==3:\n",
    "        print(\"=========ATM=========\")\n",
    "        print(\"Username:\",username)\n",
    "        print(\"Total  amount:\",amount)\n",
    "        print(\"Thanks for visiting\")\n",
    "        print(\"====================\")\n",
    "    elif option==4:\n",
    "        print(\"please enter correct login\")\n",
    "    \n"
   ]
  },
  {
   "cell_type": "code",
   "execution_count": null,
   "id": "e2bbce74-87bf-4ad5-8fc6-4c0c58537a0c",
   "metadata": {},
   "outputs": [],
   "source": []
  }
 ],
 "metadata": {
  "kernelspec": {
   "display_name": "Python 3 (ipykernel)",
   "language": "python",
   "name": "python3"
  },
  "language_info": {
   "codemirror_mode": {
    "name": "ipython",
    "version": 3
   },
   "file_extension": ".py",
   "mimetype": "text/x-python",
   "name": "python",
   "nbconvert_exporter": "python",
   "pygments_lexer": "ipython3",
   "version": "3.11.5"
  }
 },
 "nbformat": 4,
 "nbformat_minor": 5
}
